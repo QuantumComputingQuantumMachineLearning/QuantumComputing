{
 "cells": [
  {
   "cell_type": "markdown",
   "metadata": {},
   "source": [
    "<!-- dom:TITLE: Quantum Computing, getting started -->\n",
    "# Quantum Computing, getting started\n",
    "<!-- dom:AUTHOR: Morten Hjorth-Jensen at Department of Physics, University of Oslo & Department of Physics and Astronomy and National Superconducting Cyclotron Laboratory, Michigan State University -->\n",
    "<!-- Author: -->  \n",
    "**Morten Hjorth-Jensen**, Department of Physics, University of Oslo and Department of Physics and Astronomy and National Superconducting Cyclotron Laboratory, Michigan State University\n",
    "\n",
    "Date: **May 17, 2018**\n",
    "\n",
    "Copyright 1999-2018, Morten Hjorth-Jensen. Released under CC Attribution-NonCommercial 4.0 license\n",
    "\n",
    "\n",
    "\n",
    "\n",
    "\n",
    "# Historisk tilbakeblikk og Moores lov\n",
    "\n",
    "I 1946 framsto\n",
    "ENIAC (Electronic Numerical Integrator And Computer), som kunne addere\n",
    "5000 tall per sekund, som det store teknologiske\n",
    "gjennombruddet. Dens reknekraft svarte altså til noen tusen flytende talls \n",
    "operasjoner \n",
    "per sekund (FLOPS). Idag har vi maskiner som kan utføre trillioner av FLOPS.\n",
    "ENIAC besto av \n",
    "\n",
    "  * ca. 19000 vakuumrør\n",
    "\n",
    "  * veide ca. 30 tonn\n",
    "\n",
    "  * brukte ca 174 kW, eller 233 hk\n",
    "\n",
    "  * trengte ca. 150 m$^2$ med plass (30 ft $\\times$ 50 ft)\n",
    "\n",
    "Et ekspertpanel i 1949 uttrykte forhåpningsfullt følgende\n",
    "``.... {\\em en eller annen dag kan vi utvikle en like kraftig datamaskin med\n",
    "bare 1500 vakuumrør, med vekt på kanskje 1500 kg og et forbruk på\n",
    "ca. 10 kW......}\n",
    "Resten er vel historie...? Transistoren som blei introdusert på\n",
    "begynnelsen av 50-tallet revolusjonerte fullstendig feltet, og innen få\n",
    "år var vakuumrør teknologien akterutseilt.\n",
    "\n",
    "Idag representeres bit 0 og 1 vha. spenningsforksjeller.\n",
    "Med dagens teknologi brukes ca. 100000 elektroner for å\n",
    "lagre en bit med informasjon og en chip har en utstrekning på noen\n",
    "få micrometer. Transistoren, som er arbeidshesten i enhver datamaskin,\n",
    "består i dag av noen  få hundre elektroner. Skal miniatyriseringen\n",
    "av elektroniske kretser fortsette med uforminska styrke, vil vi,\n",
    "dersom vi ekstrapolerer trenden i forminskning fra \n",
    "1960 til år 2010 \n",
    "knapt trenge et elektron for å lagre en bit med informasjon.\n",
    "Det sier seg sjøl at før eller siden vil kvantemekaniske\n",
    "effekter begynne å spille en viktig rolle, og dagens    \n",
    "teknologi vil møte veggen dersom ikke nye måter å bygge kretser\n",
    "utvikles. \n",
    "Denne ekstrapolasjonen kalles også Moore sin lov, etter Gordon Moore\n",
    "ved Intel,\n",
    "kjent for sin observasjon i 1965, kun fire år etter at den først\n",
    "integrerte kretsen kom på markedet, at antall transistorer per \n",
    "integrert krets ville doble hver 18 måned. Tabellen her viser\n",
    "antall transistorer per krets fra 1971 til Pentium 4 prosessorern\n",
    "fra 2000.\n",
    "\n",
    "<table border=\"1\">\n",
    "<thead>\n",
    "<tr><th align=\"center\">      Prosessor      </th> <th align=\"center\"> år </th> <th align=\"center\">antall transistorer per krets</th> </tr>\n",
    "</thead>\n",
    "<tbody>\n",
    "<tr><td align=\"left\">   4004                     </td> <td align=\"right\">   1971    </td> <td align=\"right\">   2250                             </td> </tr>\n",
    "<tr><td align=\"left\">   8008                     </td> <td align=\"right\">   1972    </td> <td align=\"right\">   2500                             </td> </tr>\n",
    "<tr><td align=\"left\">   8080                     </td> <td align=\"right\">   1974    </td> <td align=\"right\">   5000                             </td> </tr>\n",
    "<tr><td align=\"left\">   8086                     </td> <td align=\"right\">   1978    </td> <td align=\"right\">   29000                            </td> </tr>\n",
    "<tr><td align=\"left\">   286                      </td> <td align=\"right\">   1982    </td> <td align=\"right\">   120000                           </td> </tr>\n",
    "<tr><td align=\"left\">   386[tm] processor        </td> <td align=\"right\">   1985    </td> <td align=\"right\">   275000                           </td> </tr>\n",
    "<tr><td align=\"left\">   486[tm] DX processor     </td> <td align=\"right\">   1989    </td> <td align=\"right\">   1180000                          </td> </tr>\n",
    "<tr><td align=\"left\">   Pentium 256 processor    </td> <td align=\"right\">   1993    </td> <td align=\"right\">   3100000                          </td> </tr>\n",
    "<tr><td align=\"left\">   Pentium II  processor    </td> <td align=\"right\">   1997    </td> <td align=\"right\">   7500000                          </td> </tr>\n",
    "<tr><td align=\"left\">   Pentium III processor    </td> <td align=\"right\">   1999    </td> <td align=\"right\">   24000000                         </td> </tr>\n",
    "<tr><td align=\"left\">   Pentium 4   processor    </td> <td align=\"right\">   2000    </td> <td align=\"right\">   42000000                         </td> </tr>\n",
    "</tbody>\n",
    "</table>\n",
    "\n",
    "\n",
    "\n",
    "Det er her kvantemekanikken kommer inn. \n",
    "Kvantemekanikk tilbyr en enkel og naturlig representasjon av bits:\n",
    "      vi kan f.eks. tenke på tilstander i et atom, hvor\n",
    "bit 0 er gitt ved normaltilstanden (grunntilstanden) mens bit 1 er gitt\n",
    "ved en elller annen eksitert tilstand. \n",
    "\n",
    "En enda enklere tilnærming  er å se på enkeltelektroner. \n",
    "Kan vi isolere\n",
    "et enkelt elektron, kan vi vha. et ytre påsatt magnetfelt ha spinn\n",
    "egenverdier $+1/2$ eller $-1/2$. Den første kan da tilsvare bit 0 mens\n",
    "den andre spinnegenveriden svarer til bit 1.\n",
    "\n",
    "\n",
    "En slik kvantemekanisk representasjon av en bit kalles **QUBIT** og det leder\n",
    "oss til neste avsnitt!\n",
    "\n",
    "\n",
    "\n",
    "# Superposisjon og qubits\n",
    "\n",
    "## Superposisjonsprinsippet\n",
    "\n",
    "Det kvantemekaniske superposisjonsprinsippet spiller en sentral\n",
    "rolle i alle betraktninger om kvante informasjonsteori, de fleste \n",
    "såkalla 'gedanken' eksperiment og paradokser i kvantemekanikk.\n",
    "\n",
    "Vi har i kapittel 2 allerede stifta bekjentskap med dobbelspalt eksperimentene,\n",
    "som i følge Feynman har i seg 'hjerte av kvantemekanikken'. \n",
    "De viktigste bestandelene i dette eksperimentet er en partikkel kilde,\n",
    "en dobbeltspalt innretning og en skjerm hvor vi kan observere eventuelle\n",
    "interferens mønster. Interferens mønstrene kan kun forstås dersom\n",
    "vi antar at materien utviser en bølgenatur. Denne type eksperiment har blitt\n",
    "gjort med flere partikkel typer, fra fotoner, via elektroner, til\n",
    "nøytroner og atomer. \n",
    "Kvantemekanisk er tilstanden vi observerer gitt ved en koherent\n",
    "superposisjon"
   ]
  },
  {
   "cell_type": "markdown",
   "metadata": {},
   "source": [
    "<!-- Equation labels as ordinary links -->\n",
    "<div id=\"_auto1\"></div>\n",
    "\n",
    "$$\n",
    "\\begin{equation}\n",
    "   \\Psi(x,t)=\\Psi(x,t)_a+\\Psi(x,t)_b,\n",
    "\\label{_auto1} \\tag{1}\n",
    "\\end{equation}\n",
    "$$"
   ]
  },
  {
   "cell_type": "markdown",
   "metadata": {},
   "source": [
    "hvor indeks $a$ svarer til en tilstand med bare spalt $a$ mens \n",
    "indeks $b$ er den tilsvarende tilstanden for spalt $b$.\n",
    "En slik **superposisjon** av kvantemekaniske tilstander kalles for koherente\n",
    "tilstander (kvante koherens) og følger fra postulatet om materiens\n",
    "bølge og partikkel natur.\n",
    "Det finnes per dags ingen eksperiment som tillater oss å si\n",
    "bestemt hvilken spalt f.eks. et enkelt elektron går gjennom. \n",
    "ønsker vi å gjøre det, vil en eventuell måling\n",
    "kreve at vi vekselvirker med partikkelen, noe som leder til\n",
    "**dekoherens**, dvs. tap av interferens.\n",
    "Kun når vi ikke har noen kunnskap om hvilken spalt partikkelen\n",
    "passerte kan vi observe interferens! Det er klart at dette strider med\n",
    "vår oppfatning av en partikkel som en lokalisert størrelse. \n",
    "\n",
    "\n",
    "\n",
    "## Qubits\n",
    "\n",
    "I informasjonsteori er den fundamentale enheten en bit. \n",
    "Den utgjør et system med to verdier, '0' eller '1'. \n",
    "I sin klassiske realisering, kan vi tenke oss en bit som en mekanisk\n",
    "bryter, et system  med to forskjellige tilstander. Vi kunne tenke\n",
    "oss også at energi, eller potensialforksjellen mellom de to\n",
    "tilstandene er såpass stor at en ikke kan ha spontane overganger\n",
    "fra f.eks. bit '0' til bit '1'. \n",
    "\n",
    "Den kvantemekaniske analog til den klassiske bit er den såkalla\n",
    "*qubit*, og på lik linje med sin klassiske partner, må den\n",
    "ha minst to tilstander, som vi heretter kaller for $|0\\rangle$ og\n",
    "$|1\\rangle$. I prinsippet kan ethvert kvantemekanisk system som har\n",
    "minst to tilstander tjene som en basis for en qubit, tenk bare på et \n",
    "elektron i et magnetfelt. Avhengig av magnetfeltets retning, kan vi ha \n",
    "kvantetallene $m_s=\\pm 1/2$.  Disse to kvantetallene kan tjene som\n",
    "basis for en qubit.\n",
    "I slutten av dette kapitlet skal vi se på et eksperimentelt\n",
    "oppsett som manipulerer to qubits. \n",
    "\n",
    "Alt dette høres kanskje ikke så banebrytende. Men kopler vi superposisjons\n",
    "prinsippet til en slik qubit, kan vi lage oss en generell qubit tilstand"
   ]
  },
  {
   "cell_type": "markdown",
   "metadata": {},
   "source": [
    "<!-- Equation labels as ordinary links -->\n",
    "<div id=\"_auto2\"></div>\n",
    "\n",
    "$$\n",
    "\\begin{equation}\n",
    "    |q\\rangle = \\alpha |0\\rangle + \\beta |1\\rangle,\n",
    "\\label{_auto2} \\tag{2}\n",
    "\\end{equation}\n",
    "$$"
   ]
  },
  {
   "cell_type": "markdown",
   "metadata": {},
   "source": [
    "med den egenskap at $|\\alpha|^2+|\\beta|^2=1$. Det betyr ikke at qubiten \n",
    "har en verdi et sted mellom '0' og '1', men heller at qubiten er i en\n",
    "kvantemekanisk superposisjon av begge tilstander, og dersom vi foretar\n",
    "en måling på denne tilstanden, finner vi en sannsynlighet\n",
    "$|\\alpha|^2$ for at den er i tilstand '0' og $|\\beta|^2$\n",
    "for at den er i tilstand '1'. Qubiten er i en koherent superposisjon\n",
    "av to kvantemekaniske basis tilstander.  \n",
    "Et enkelt eksempel er"
   ]
  },
  {
   "cell_type": "markdown",
   "metadata": {},
   "source": [
    "<!-- Equation labels as ordinary links -->\n",
    "<div id=\"_auto3\"></div>\n",
    "\n",
    "$$\n",
    "\\begin{equation}\n",
    "    |q\\rangle = \\frac{1}{\\sqrt{2}}(|0\\rangle + |1\\rangle),\n",
    "\\label{_auto3} \\tag{3}\n",
    "\\end{equation}\n",
    "$$"
   ]
  },
  {
   "cell_type": "markdown",
   "metadata": {},
   "source": [
    "som betyr at vi har 50\\% sannsynlighet for at qubiten er i tilstand\n",
    "'0' og 50\\% sannsynlighet for at den er i tilstand '1'. \n",
    "\n",
    "Hvorfor er anvendelsen av det kvantemekaniske superposisjonsprinsippet\n",
    "av interesse? Og hva er nytt i forhold til en klassisk representasjon?\n",
    "\n",
    "La oss se på et tilfelle hvor vi har en kvantemekanisk\n",
    "tilstand med åtte komponenter, dvs. vi har superposisjonen"
   ]
  },
  {
   "cell_type": "markdown",
   "metadata": {},
   "source": [
    "<!-- Equation labels as ordinary links -->\n",
    "<div id=\"eq:dataord\"></div>\n",
    "\n",
    "$$\n",
    "\\begin{equation}\n",
    "    |\\psi\\rangle = a_0|\\psi\\rangle_0+a_1|\\psi\\rangle_1+a_2|\\psi\\rangle_2+a_3|\\psi\\rangle_3+a_4|\\psi\\rangle_4+a_5|\\psi\\rangle_5+a_6|\\psi\\rangle_6+a_7|\\psi\\rangle_7,\n",
    "\\label{eq:dataord} \\tag{4}\n",
    "\\end{equation}\n",
    "$$"
   ]
  },
  {
   "cell_type": "markdown",
   "metadata": {},
   "source": [
    "hvor hver komponent $|\\psi\\rangle_i$ er enten i en tilstand \n",
    "'0' eller '1'. Vi kunne f.eks. tenke oss at hver $|\\psi\\rangle_i$ \n",
    "var et elektron med enten $m_s=-1/2$ eller $m_s=+1/2$. Koeffisientene\n",
    "$a_i$ er imaginære.  \n",
    "\n",
    "Dersom vi ønsker å representere denne tilstanden i en klassisk datamaskin\n",
    "for en \n",
    "eventuell kvantemekanisk beregning, må vi lagre hver av koeffisientene\n",
    "$a_i$ et sted i minnet. \n",
    "Vi trenger da et ord med 128 bits for \n",
    "å representere hver $a_i$ som er imaginær i en konvensjonell datamaskin.\n",
    "Et alternativ er alltid å skrive dataene ut på\n",
    "disk. Men dersom vi ender opp med  å lese og skrive store datamengder  \n",
    "til og fra ei fil, \n",
    "senker dette hastigheten på programmet vårt, da lesing \n",
    "til/fra ei fil tar lengre tid enn å aksessere data i internminnet\n",
    "til en datamaskin.\n",
    "I vårt tilfelle trenger vi åtte adresser\n",
    "i minnet for å lagre en bestemt kombinasjon\n",
    "av koeffisientene $a_i$. Det burde ikke være vanskelig å\n",
    "overbevise seg sjøl at dersom antall elektroner øker \n",
    "(systemet vårt blir større), øker\n",
    "også vårt behov for minne.\n",
    "Med dagens teknologi, kan vi lagre informasjon som svarer til\n",
    "ca. $\\sim 2^{30}-2^{35}$ i minnet på de beste datamaskinene vi har\n",
    "tilgjengelig.  Det vil da svare til et sted mellom 30 og 35 elektroner\n",
    "som kan ha spinn opp eller ned. Generelt har vi et totalt antall\n",
    "tilstander gitt ved $2^n$, hvor $n$ kan være antall elektroner \n",
    "i to tilstander, spinn opp eller ned. \n",
    "\n",
    "Hvordan omgå dette problemet?  \n",
    "Det kvantemekaniske superposisjonsprinsippet kommer oss her til\n",
    "unnsetting. En tilstand som den beskrevet i likning ([eq:dataord](#eq:dataord)),\n",
    "gitt ved en bestemt kombinasjon av koeffisientene $a_i$, kan da tenkes\n",
    "lagret som et enkelt ord i et enkelt kvanteregister, \n",
    "dvs. kun en adresse,\n",
    "i motsetning til de åtte vi trenger for en klassisk datamaskin.\n",
    "Dersom vi f.eks. kan manipulere\n",
    "$n=500$ qubits,  har vi $2^{500}$ mulige tilstander, som er mye større\n",
    "enn det estimerte antallet atomer i verdensrommet.\n",
    "Kvantemekanikk gir oss dermed et potensiale for informasjonsbehandling \n",
    "langt utover det en klassiske datamaskin kan  gjøre. \n",
    "\n",
    "Hvordan en skal lage slike kvanteregistre er dog ikke klart. \n",
    "Det en har klart eksperimentelt hittil er å lage \n",
    "enkle kvantemekaniske kretser hvor en manipulerer noen få\n",
    "qubits. \n",
    "\n",
    "# Operasjoner på en qubit\n",
    "\n",
    "Innsikt i noen av de mer grunnleggende operasjonene som danner\n",
    "grunnlaget for en kvantedatamaskin og kvanteinformasjons teori, finnes\n",
    "ved å studere et tenkt oppsett for en enkel strålesplitter,\n",
    "f.eks. gitt ved endringen av polarisasjonsretningen til en innkommende\n",
    "lysstråle.\n",
    "\n",
    "\n",
    "Vi kan tenke oss at vi har en innkommende stråle som kan være\n",
    "i to tilstander, med lik sannsynlighet. I vårt tilfelle ser vi for\n",
    "oss en partikkel som enten kommer inn ovenifra (tilstand  $|0\\rangle$)\n",
    "eller nedenfra (tilstand  $|1\\rangle$) mot strålesplitteren. \n",
    "Strålen påvirkes deretter av en stråle splitter. \n",
    "Strålen splittes i to, med lik sannsynlighet for at partikkelen\n",
    "kommer ut ovenfor eller nedenfor. En enkel matematisk beskrivelse av\n",
    "denne strålesplitteren er gitt ved den såkalte Hadamard\n",
    "transformasjonen $\\hat{H}$, hvis virkning på en tilstand\n",
    "$|0\\rangle$ eller $|1\\rangle$ er"
   ]
  },
  {
   "cell_type": "markdown",
   "metadata": {},
   "source": [
    "<!-- Equation labels as ordinary links -->\n",
    "<div id=\"_auto4\"></div>\n",
    "\n",
    "$$\n",
    "\\begin{equation}\n",
    "    \\hat{H}|0\\rangle=\n",
    "    \\frac{1}{\\sqrt{2}}(|0\\rangle +|1\\rangle),\n",
    "\\label{_auto4} \\tag{5}\n",
    "\\end{equation}\n",
    "$$"
   ]
  },
  {
   "cell_type": "markdown",
   "metadata": {},
   "source": [
    "og"
   ]
  },
  {
   "cell_type": "markdown",
   "metadata": {},
   "source": [
    "<!-- Equation labels as ordinary links -->\n",
    "<div id=\"_auto5\"></div>\n",
    "\n",
    "$$\n",
    "\\begin{equation}\n",
    "    \\hat{H}|1\\rangle=\n",
    "    \\frac{1}{\\sqrt{2}}(|0\\rangle -|1\\rangle).\n",
    "\\label{_auto5} \\tag{6}\n",
    "\\end{equation}\n",
    "$$"
   ]
  },
  {
   "cell_type": "markdown",
   "metadata": {},
   "source": [
    "Vi merker oss også at"
   ]
  },
  {
   "cell_type": "markdown",
   "metadata": {},
   "source": [
    "<!-- Equation labels as ordinary links -->\n",
    "<div id=\"_auto6\"></div>\n",
    "\n",
    "$$\n",
    "\\begin{equation}\n",
    "    \\hat{H}\\hat{H}|0\\rangle=\n",
    "    \\hat{H}\\frac{1}{\\sqrt{2}}(|0\\rangle +|1\\rangle)\n",
    "    =|0\\rangle,\n",
    "\\label{_auto6} \\tag{7}\n",
    "\\end{equation}\n",
    "$$"
   ]
  },
  {
   "cell_type": "markdown",
   "metadata": {},
   "source": [
    "og"
   ]
  },
  {
   "cell_type": "markdown",
   "metadata": {},
   "source": [
    "<!-- Equation labels as ordinary links -->\n",
    "<div id=\"_auto7\"></div>\n",
    "\n",
    "$$\n",
    "\\begin{equation}\n",
    "    \\hat{H}\\hat{H}|1\\rangle=\n",
    "    \\hat{H}\\frac{1}{\\sqrt{2}}(|0\\rangle -|1\\rangle)\n",
    "    =|1\\rangle.\n",
    "\\label{_auto7} \\tag{8}\n",
    "\\end{equation}\n",
    "$$"
   ]
  },
  {
   "cell_type": "markdown",
   "metadata": {},
   "source": [
    "Virkningen av denne kvantemekaniske transformasjonen er altså \n",
    "å lage\n",
    "en midlertidig tilstand som består av en superposisjon av\n",
    "bit '0' og bit '1'. Klassisk er ikke det mulig. \n",
    "En alternativ beskrivelse er gitt ved en matriserepresentasjon\n",
    "av tilstandene $|0\\rangle$ og $|1\\rangle$ og transformasjonen\n",
    "$\\hat{H}$, gitt ved"
   ]
  },
  {
   "cell_type": "markdown",
   "metadata": {},
   "source": [
    "<!-- Equation labels as ordinary links -->\n",
    "<div id=\"_auto8\"></div>\n",
    "\n",
    "$$\n",
    "\\begin{equation}\n",
    "   |0\\rangle=\\left(\\begin{array}{c} 1 \\\\ 0\\end{array}   \\right),\n",
    "\\label{_auto8} \\tag{9}\n",
    "\\end{equation}\n",
    "$$"
   ]
  },
  {
   "cell_type": "markdown",
   "metadata": {},
   "source": [
    "<!-- Equation labels as ordinary links -->\n",
    "<div id=\"_auto9\"></div>\n",
    "\n",
    "$$\n",
    "\\begin{equation}\n",
    "   |1\\rangle=\\left(\\begin{array}{c} 0 \\\\ 1\\end{array}   \\right),\n",
    "\\label{_auto9} \\tag{10}\n",
    "\\end{equation}\n",
    "$$"
   ]
  },
  {
   "cell_type": "markdown",
   "metadata": {},
   "source": [
    "og"
   ]
  },
  {
   "cell_type": "markdown",
   "metadata": {},
   "source": [
    "<!-- Equation labels as ordinary links -->\n",
    "<div id=\"_auto10\"></div>\n",
    "\n",
    "$$\n",
    "\\begin{equation}\n",
    "   \\hat{H}=\\frac{1}{\\sqrt{2}}\n",
    "   \\left(\\begin{array}{cc} 1 & 1 \\\\ 1& -1\\end{array}   \\right).\n",
    "\\label{_auto10} \\tag{11}\n",
    "\\end{equation}\n",
    "$$"
   ]
  },
  {
   "cell_type": "markdown",
   "metadata": {},
   "source": [
    "Overbevis deg selv om at dette stemmer!\n",
    "\n",
    "Det finnes flere slike operasjoner på qubits. Den såkalte \n",
    "NOT-kretsen, hvor bit '0' skifter til bit '1', eller omvendt,\n",
    "kan skrives som"
   ]
  },
  {
   "cell_type": "markdown",
   "metadata": {},
   "source": [
    "<!-- Equation labels as ordinary links -->\n",
    "<div id=\"_auto11\"></div>\n",
    "\n",
    "$$\n",
    "\\begin{equation}\n",
    "   \\hat{H}_{\\mathrm{NOT}}=   \n",
    "   \\left(\\begin{array}{cc} 0 & 1 \\\\ 1& 0\\end{array}   \\right).\n",
    "\\label{_auto11} \\tag{12}\n",
    "\\end{equation}\n",
    "$$"
   ]
  },
  {
   "cell_type": "markdown",
   "metadata": {},
   "source": [
    "Vi ser da at"
   ]
  },
  {
   "cell_type": "markdown",
   "metadata": {},
   "source": [
    "<!-- Equation labels as ordinary links -->\n",
    "<div id=\"_auto12\"></div>\n",
    "\n",
    "$$\n",
    "\\begin{equation}\n",
    "   \\hat{H}_{\\mathrm{NOT}}|0\\rangle=   \n",
    "   \\left(\\begin{array}{cc} 0 & 1 \\\\ 1& 0\\end{array}\\right)\n",
    "   \\left(\\begin{array}{c} 1 \\\\ 0\\end{array}   \\right)=\n",
    "   \\left(\\begin{array}{c} 0 \\\\ 1\\end{array}   \\right)=|1\\rangle,\n",
    "\\label{_auto12} \\tag{13}\n",
    "\\end{equation}\n",
    "$$"
   ]
  },
  {
   "cell_type": "markdown",
   "metadata": {},
   "source": [
    "og"
   ]
  },
  {
   "cell_type": "markdown",
   "metadata": {},
   "source": [
    "<!-- Equation labels as ordinary links -->\n",
    "<div id=\"_auto13\"></div>\n",
    "\n",
    "$$\n",
    "\\begin{equation}\n",
    "   \\hat{H}_{\\mathrm{NOT}}|1\\rangle=   \n",
    "   \\left(\\begin{array}{cc} 0 & 1 \\\\ 1& 0\\end{array}\\right)\n",
    "   \\left(\\begin{array}{c} 0 \\\\ 1\\end{array}   \\right)=\n",
    "   \\left(\\begin{array}{c} 1 \\\\ 0\\end{array}   \\right)=|0\\rangle.\n",
    "\\label{_auto13} \\tag{14}\n",
    "\\end{equation}\n",
    "$$"
   ]
  },
  {
   "cell_type": "markdown",
   "metadata": {},
   "source": [
    "Det siste er ikke noe annet enn en alternativ måte å\n",
    "uttrykke virkningen av en standard NOT-krets i elektronikk.\n",
    "\n",
    "En annen viktig operasjon er den såkalte faseskiftsoperasjonen, hvor vi \n",
    "kan skifte fasen til en av amplitudene ved hjelp av f.eks. laserlys\n",
    "med en bestemt frekvens. Matematisk kan vi uttrykke denne operasjonen\n",
    "som"
   ]
  },
  {
   "cell_type": "markdown",
   "metadata": {},
   "source": [
    "<!-- Equation labels as ordinary links -->\n",
    "<div id=\"_auto14\"></div>\n",
    "\n",
    "$$\n",
    "\\begin{equation}\n",
    "   \\hat{H}_{\\Phi}|0\\rangle=e^{i\\phi}|0\\rangle,\n",
    "\\label{_auto14} \\tag{15}\n",
    "\\end{equation}\n",
    "$$"
   ]
  },
  {
   "cell_type": "markdown",
   "metadata": {},
   "source": [
    "og"
   ]
  },
  {
   "cell_type": "markdown",
   "metadata": {},
   "source": [
    "<!-- Equation labels as ordinary links -->\n",
    "<div id=\"_auto15\"></div>\n",
    "\n",
    "$$\n",
    "\\begin{equation}\n",
    "   \\hat{H}_{\\Phi}|1\\rangle=|1\\rangle,\n",
    "\\label{_auto15} \\tag{16}\n",
    "\\end{equation}\n",
    "$$"
   ]
  },
  {
   "cell_type": "markdown",
   "metadata": {},
   "source": [
    "eller med operatoren på følgende form"
   ]
  },
  {
   "cell_type": "markdown",
   "metadata": {},
   "source": [
    "<!-- Equation labels as ordinary links -->\n",
    "<div id=\"_auto16\"></div>\n",
    "\n",
    "$$\n",
    "\\begin{equation}\n",
    "   \\hat{H}_{\\Phi}=   \n",
    "   \\left(\\begin{array}{cc} e^{i\\phi} & 0 \\\\ 0& 1\\end{array}   \\right).\n",
    "\\label{_auto16} \\tag{17}\n",
    "\\end{equation}\n",
    "$$"
   ]
  },
  {
   "cell_type": "markdown",
   "metadata": {},
   "source": [
    "Når vi skal lage kvantemekaniske kretser, kan vi tenke oss\n",
    "at flere slike operasjoner på en qubit tilstander utgjør\n",
    "en bestemt endelig krets.\n",
    "\n",
    "\n",
    "Hittil har vi sett på en begynnelsestilstand som bare består av\n",
    "en tilstand. \n",
    "Vi kan også lage en \n",
    "begynnelsetilstand  gitt ved en superposisjon, f.eks."
   ]
  },
  {
   "cell_type": "markdown",
   "metadata": {},
   "source": [
    "<!-- Equation labels as ordinary links -->\n",
    "<div id=\"_auto17\"></div>\n",
    "\n",
    "$$\n",
    "\\begin{equation}\n",
    "    |q\\rangle_{in} = \\alpha |0\\rangle_{in} + \\beta |1\\rangle_{in},\n",
    "\\label{_auto17} \\tag{18}\n",
    "\\end{equation}\n",
    "$$"
   ]
  },
  {
   "cell_type": "markdown",
   "metadata": {},
   "source": [
    "hvor $\\alpha$ og $\\beta$ er to imaginære konstanter. \n",
    "Virkningen av vår strålesplitter er gitt ved"
   ]
  },
  {
   "cell_type": "markdown",
   "metadata": {},
   "source": [
    "<!-- Equation labels as ordinary links -->\n",
    "<div id=\"_auto18\"></div>\n",
    "\n",
    "$$\n",
    "\\begin{equation}\n",
    "    |q\\rangle_{ut}=\\hat{H}|q\\rangle_{in} = \n",
    "    \\frac{1}{\\sqrt{2}}((\\alpha+\\beta)|0\\rangle_{ut} + \n",
    "    (\\alpha-\\beta)|1\\rangle_{ut}),\n",
    "\\label{_auto18} \\tag{19}\n",
    "\\end{equation}\n",
    "$$"
   ]
  },
  {
   "cell_type": "markdown",
   "metadata": {},
   "source": [
    "hvor $\\alpha+\\beta$ er sannsynlighetsamplituden for å finne\n",
    "partikkelen i den øvre utgående strålen mens $\\alpha-\\beta$\n",
    "er den tilsvarende amplituden for å finne den i nedre utgående\n",
    "strålen. Velger vi enten $\\alpha=0$ eller $\\beta=0$, ser vi at\n",
    "partikkelen har like stor sannsynlighet for å være i den nedre\n",
    "utgående strålen som den øvre. Velger vi $\\alpha=\\beta$ vil partikkelen\n",
    "definitivt komme ut i den øvre strålen. \n",
    "Virker vi en gang til på den resulterende tilstanden får vi tilbake\n",
    "begynnelsestilstanden,"
   ]
  },
  {
   "cell_type": "markdown",
   "metadata": {},
   "source": [
    "<!-- Equation labels as ordinary links -->\n",
    "<div id=\"_auto19\"></div>\n",
    "\n",
    "$$\n",
    "\\begin{equation} \n",
    "   |q\\rangle_{ut}=\\hat{H}\\hat{H}|q\\rangle_{in}=|q\\rangle_{in}.\n",
    "\\label{_auto19} \\tag{20}\n",
    "\\end{equation}\n",
    "$$"
   ]
  },
  {
   "cell_type": "markdown",
   "metadata": {},
   "source": [
    "Som et siste eksempel kan vi tenke oss en krets representert vha. følgende\n",
    "operasjoner"
   ]
  },
  {
   "cell_type": "markdown",
   "metadata": {},
   "source": [
    "<!-- Equation labels as ordinary links -->\n",
    "<div id=\"_auto20\"></div>\n",
    "\n",
    "$$\n",
    "\\begin{equation} \n",
    "   \\hat{H}\\hat{\\Phi}\\hat{H}|0\\rangle,\n",
    "\\label{_auto20} \\tag{21}\n",
    "\\end{equation}\n",
    "$$"
   ]
  },
  {
   "cell_type": "markdown",
   "metadata": {},
   "source": [
    "hvis resultat er"
   ]
  },
  {
   "cell_type": "markdown",
   "metadata": {},
   "source": [
    "<!-- Equation labels as ordinary links -->\n",
    "<div id=\"_auto21\"></div>\n",
    "\n",
    "$$\n",
    "\\begin{equation}\n",
    "    \\frac{1}{\\sqrt{2}}((e^{i\\phi}+1)|0\\rangle + \n",
    "    (e^{i\\phi}-1)|1\\rangle).\n",
    "\\label{_auto21} \\tag{22}\n",
    "\\end{equation}\n",
    "$$"
   ]
  },
  {
   "cell_type": "markdown",
   "metadata": {},
   "source": [
    "Dersom $\\phi=0$ får vi bit '0' som resultat mens for $\\phi=\\pi$\n",
    "finner bit '1' som sluttresultat. Det betyr at faseskiftet $\\phi$ \n",
    "gjør en i stand til å veksle mellom bit '0' eller bit '1'. \n",
    "\n",
    "\n",
    "\n",
    "# Entanglement og to-qubit tilstander\n",
    "\n",
    "Forestill deg nå en partikkelkilde som sender ut et par med partikler,\n",
    "slik at en partikkel dukker opp til venstre mens den andre kommer ut til\n",
    "høyre for kilden. Vi kan tenke oss at kilden er slik innretta at\n",
    "partiklene som sendes ut kommer med motsatt retta bevegelsesmengder, eller\n",
    "spinn, eller polarisasjonsretning for å nevne noen muligheter.\n",
    "Vi gir partikkelen til venstre merkelappen partikkel '1' mens partikkelen\n",
    "til høyre merkes som partikkel '2'. Dersom vi beholder eksemplet \n",
    "med strålesplitteren, er det slik at dersom partikkel '1' kommer ut\n",
    "i den øvre strålen, vil alltid partikkel '2' komme ut i den\n",
    "nedre strålen til høyre. I vår bit-sjargong, betyr det at dersom\n",
    "partikkel '1' kommer ut med bit '0', må partikkel '2' komme ut med\n",
    "bit '1', eller motsatt. Kvantemekanisk kan vi tenke oss denne tilstanden\n",
    "av to partikler, eller to qubits om vi vil, gitt ved\n",
    "to qubits kombinasjonen"
   ]
  },
  {
   "cell_type": "markdown",
   "metadata": {},
   "source": [
    "<!-- Equation labels as ordinary links -->\n",
    "<div id=\"eq:superent\"></div>\n",
    "\n",
    "$$\n",
    "\\begin{equation}\n",
    "   \\frac{|0\\rangle_1 |1\\rangle_2 + |1\\rangle_1|0\\rangle_2}{\\sqrt{2}},\n",
    "\\label{eq:superent} \\tag{23}\n",
    "\\end{equation}\n",
    "$$"
   ]
  },
  {
   "cell_type": "markdown",
   "metadata": {},
   "source": [
    "hvor indeksene '1' og '2' henspeiler på henholdsvis partikkel 1 og 2. \n",
    "Denne likningen beskriver det som kalles for en entangled tilstand (kryssa\n",
    "tilstand) med den interessante egenskap at ingen av de to qubiten har en bestemt verdi. Men det vi finner ut om denne kvantetilstanden ved måling\n",
    "på en av qubitene (partiklene), en måling hvis resultat ikke er kjent\n",
    "a priori, er at den andre qubiten har motsatt verdi av f.eks. spinn\n",
    "eller bevegelsesmengde.   \n",
    "Det ser ut som om det kan være kvantekorrelasjoner, sjøl om\n",
    "målingen på partiklene foretas når partiklene er langt\n",
    "borte. Denne kvantemekaniske ikke-lokaliteten ga opphav til\n",
    "den store disputten mellom Einstein og Bohr om paradokser\n",
    "i kvantemekanikken. Tiltsanden i siste likning kalles også for en \n",
    "Bell tilstanden (etter den irske fysikeren John Bell), eller EPR par \n",
    "(etter Einstein, Podolsky\n",
    "og Rosen) og \n",
    "er en viktig byggestein i kvanteinformasjonsteori, teleportasjon og\n",
    "kryptering.\n",
    "Korrelasjonene som framkommer i slike tilstander\n",
    " har vært heftig debattert siden artikkelen til  \n",
    "Einstein, Podolsky\n",
    "og Rosen i 1935. \n",
    "John Bell viste at målingskorrelasjonene mellom slike kvantemekaniske\n",
    "tilstander er mye sterkere enn de som finnes blant klassiske\n",
    "systemer. \n",
    "\n",
    "I vår diskusjon skal vi nøye oss med å slå fast, på lik\n",
    "linje med dobbelspalt eksperiment hvor vi ikke kan fastslå hvorvidt\n",
    "partikkelen går gjennom spalt 1 eller to, at den kvantemekaniske\n",
    "superposisjonen slik vi ser den i likning ([eq:superent](#eq:superent)) ikke \n",
    "tillater oss å si hvilke av de to en-qubit mulighetene \n",
    "går inn i tilstanden. Vi kan ikke si om qubit '1', partikkel '1',\n",
    "er i  bit '0' eller '1', likeså om qubit '2', partikkel '2', er i  \n",
    "bit '0' eller '1'. Men, dersom vi måler på qubit '1' kan vi umiddelbart\n",
    "si noe om hva slags tilstand qubit '2' er i. Disse betraktningene leder oss\n",
    "til spørsmålet om hvordan vi kan lage og observere såkalte 'entangled'\n",
    "tilstander. \n",
    "\n",
    "En mulighet er ved henfall av partikler med spinn 0 til to partikler\n",
    "med halvtallig spinn. Det totale spinnet må være bevart,\n",
    "noe som betyr at de to utgående partiklene må ha motsatt retta\n",
    "spinn. Et slikt eksempel er et nøytralt pion, et boson (meson) med\n",
    "masse 134 MeV/c$^2$, som kan henfalle til et elektron og et\n",
    "positron, en partikkel med elektronets masse men motsatt ladning, et\n",
    "såkalt antielektron. Dersom det kun er spinnets verdi som tillater\n",
    "oss å skille mellom mulige utkommer ved kilden, vil den resulterende \n",
    "to qubit kvantetilstanden se ut som følger"
   ]
  },
  {
   "cell_type": "markdown",
   "metadata": {},
   "source": [
    "<!-- Equation labels as ordinary links -->\n",
    "<div id=\"eq:superent1\"></div>\n",
    "\n",
    "$$\n",
    "\\begin{equation}\n",
    "   \\frac{|+\\rangle_1 |-\\rangle_2 - |-\\rangle_1|+\\rangle_2}{\\sqrt{2}},\n",
    "\\label{eq:superent1} \\tag{24}\n",
    "\\end{equation}\n",
    "$$"
   ]
  },
  {
   "cell_type": "markdown",
   "metadata": {},
   "source": [
    "hvor $+$ og $-$ henspeiler til henholdsvis spinn opp og spinn ned, mens\n",
    "indeksene 1 og 2 refererer til partikkel '1' og '2'. \n",
    "En måling på partikkel '1' vil umiddelbart også fastlegge\n",
    "spinnet til partikkel '2'. Det er slik virkning 'uten vekselvirkning'\n",
    "samt det kvantemekaniske superposisjonsprinsippet som danner grunnlaget\n",
    "for det nye forskningsfeltet\n",
    "om kvantedatamaskiner og kvante informasjonsteori. \n",
    "\n",
    "\n",
    "Vi avslutter dette avsnittet med en kort beskrivelse av to-qubit tilstander.\n",
    "I neste avsnitt skal vi se hvordan vi kan bruke slike to-qubit tilstander\n",
    "til å simulere kvantemekaniske kretser.\n",
    "\n",
    "En en-qubit tilstand er gitt ved"
   ]
  },
  {
   "cell_type": "markdown",
   "metadata": {},
   "source": [
    "<!-- Equation labels as ordinary links -->\n",
    "<div id=\"_auto22\"></div>\n",
    "\n",
    "$$\n",
    "\\begin{equation}\n",
    "    |q\\rangle_{1} = \\alpha_1 |0\\rangle_{1} + \\beta_1 |1\\rangle_{1},\n",
    "\\label{_auto22} \\tag{25}\n",
    "\\end{equation}\n",
    "$$"
   ]
  },
  {
   "cell_type": "markdown",
   "metadata": {},
   "source": [
    "hvor indeksen '1' henviser til qubit '1'. Setter vi sammen en slik\n",
    "en-qubit tilstand sammen med en annen en-qubit tilstand har vi"
   ]
  },
  {
   "cell_type": "markdown",
   "metadata": {},
   "source": [
    "<!-- Equation labels as ordinary links -->\n",
    "<div id=\"_auto23\"></div>\n",
    "\n",
    "$$\n",
    "\\begin{equation}\n",
    "     |q\\rangle_{12}= |q\\rangle_{1} |q\\rangle_{2}\n",
    "\\label{_auto23} \\tag{26}\n",
    "\\end{equation}\n",
    "$$"
   ]
  },
  {
   "cell_type": "markdown",
   "metadata": {},
   "source": [
    "eller"
   ]
  },
  {
   "cell_type": "markdown",
   "metadata": {},
   "source": [
    "<!-- Equation labels as ordinary links -->\n",
    "<div id=\"_auto24\"></div>\n",
    "\n",
    "$$\n",
    "\\begin{equation}\n",
    "   |q\\rangle_{12}=\\alpha_1 \\alpha_2|0\\rangle_1|0\\rangle_2 +\n",
    "                  \\alpha_1 \\beta_2|0\\rangle_1|1\\rangle_2 +\n",
    "                  \\beta_1 \\alpha_2|1\\rangle_1|0\\rangle_2 +\n",
    "                  \\beta_1 \\beta_2|1\\rangle_1|1\\rangle_2,\n",
    "\\label{_auto24} \\tag{27}\n",
    "\\end{equation}\n",
    "$$"
   ]
  },
  {
   "cell_type": "markdown",
   "metadata": {},
   "source": [
    "slik at våre nye basistilstander blir\n",
    "$|0\\rangle_1|0\\rangle_2$, $|0\\rangle_1|1\\rangle_2$, $|1\\rangle_1|0\\rangle_2$ \n",
    "og $|1\\rangle_1|1\\rangle_2$. \n",
    "\n",
    "Dersom alle koeffisientene er forskjellige fra null, kan vi lage en \n",
    "tilstand som nå er en superposisjon av fire ulike tilstander. \n",
    "\n",
    "Slik kan vi fortsette med flere qubits og lage superposisjoner \n",
    "av flere og mer kompliserte basistilstander. \n",
    "\n",
    "\n",
    "# Kvantemekaniske kretser\n",
    "\n",
    "I elektronikk er det slik at vi kan bygge alle mulige  type kretser vha. kun\n",
    "to basiskretser, en såkalt NOT krets og en AND krets. Disse kan slås\n",
    "sammen til en NAND krets, slik at  i grunnen trenger vi kun en basis krets.\n",
    "\n",
    "\n",
    "Enhver kvantekrets må kunne formuleres som virkningen\n",
    "av en eller annen kvantemekanisk operator $\\hat{H}$. Generelt har vi da at"
   ]
  },
  {
   "cell_type": "markdown",
   "metadata": {},
   "source": [
    "<!-- Equation labels as ordinary links -->\n",
    "<div id=\"_auto25\"></div>\n",
    "\n",
    "$$\n",
    "\\begin{equation} \n",
    "   |q\\rangle_{ut}=\\hat{H}|q\\rangle_{in},\n",
    "\\label{_auto25} \\tag{28}\n",
    "\\end{equation}\n",
    "$$"
   ]
  },
  {
   "cell_type": "markdown",
   "metadata": {},
   "source": [
    "men siden $\\hat{H}$ må  være hermitesk, dvs.\n",
    "$\\hat{H}^{\\dagger}=\\hat{H}$ og $\\hat{H}^{\\dagger}\\hat{H}=1$, har vi"
   ]
  },
  {
   "cell_type": "markdown",
   "metadata": {},
   "source": [
    "<!-- Equation labels as ordinary links -->\n",
    "<div id=\"_auto26\"></div>\n",
    "\n",
    "$$\n",
    "\\begin{equation} \n",
    "   \\hat{H}^{\\dagger}|q\\rangle_{ut}=\\hat{H}^{\\dagger}\\hat{H}|q\\rangle_{in}=\n",
    "   |q\\rangle_{in}.\n",
    "\\label{_auto26} \\tag{29}\n",
    "\\end{equation}\n",
    "$$"
   ]
  },
  {
   "cell_type": "markdown",
   "metadata": {},
   "source": [
    "Vi ser av siste likning at vi kan få ut \n",
    "begynnelsestilstanden utifra den \n",
    "inverse transformasjonen $\\hat{H}^{\\dagger}|q\\rangle_{ut}$ på sluttilstanden.\n",
    "Det betyr igjen at vi må kunne dedusere fra utgangs-biten(e)\n",
    "hvilken verdi inngangs-biten(e) hadde. En slik krets kalles\n",
    "reversibel og skiller seg fra en klassisk irreversibel  \n",
    "AND krets. \n",
    "\n",
    "Det er mulig å vise innenfor informasjonsteori at en kan lage en\n",
    "reversibel Turingmaskin vha. kun to basis kretser, på lik linje med\n",
    "en klassisk irreversibel Turingmaskin basert på kun en NAND krets.\n",
    "Dvs. at vi kan lage oss alle mulige typer reversible kretser vha. kun\n",
    "to basis kretser. Disse er en NOT krets og en CNOT krets. \n",
    "\n",
    "En CNOT krets, eller kontrollert NOT som den kalles, har blitt demonstrert\n",
    "vha. både ionefelle teknikker, hvor enkeltioners kvantemekaniske\n",
    "tilstander representerer bit '0' og '1', og kjernemagnetisk resonans \n",
    "teknikker. \n",
    "\n",
    "Vi skal diskutere disse to kretsene i neste underavsnitt og avslutte\n",
    "med en faktisk realisering av en CNOT krets. \n",
    "\n",
    "## CNOT kretser\n",
    "\n",
    "\n",
    "En CNOT krets beskriver vekselvirkningen mellom to qubits.\n",
    "Den ene qubiten kalles for kontroll-biten mens den andre kalles\n",
    "target-biten. Vi bruker indeks $c$ for den første og indeks $t$ for den\n",
    "siste. Dens virkning er slik at når kontrollbiten har verdi bit '0',\n",
    "forblir targetbiten også uforandra. Dersom kontroll-biten har verdien\n",
    "bit '1', forandres target-biten fra f.eks. bit '0'  til bit '1', eller\n",
    "motsatt, dvs. virkningen på target-biten er som en NOT krets\n",
    "dersom kontroll-biten har verdi bit '1'. \n",
    "Vi kan derfor tenke oss en kvantemekanisk begynnelsestilstand\n",
    "gitt ved en qubit for kontroll-biten og en qubit for target-biten.\n",
    "Virkningen kan da oppsummeres som følgende"
   ]
  },
  {
   "cell_type": "markdown",
   "metadata": {},
   "source": [
    "<!-- Equation labels as ordinary links -->\n",
    "<div id=\"_auto27\"></div>\n",
    "\n",
    "$$\n",
    "\\begin{equation}\n",
    "   |0\\rangle_{c}  |0\\rangle_{t}\\rightarrow\n",
    "   |0\\rangle_{c}  |0\\rangle_{t},\n",
    "\\label{_auto27} \\tag{30}\n",
    "\\end{equation}\n",
    "$$"
   ]
  },
  {
   "cell_type": "markdown",
   "metadata": {},
   "source": [
    "<!-- Equation labels as ordinary links -->\n",
    "<div id=\"_auto28\"></div>\n",
    "\n",
    "$$\n",
    "\\begin{equation}\n",
    "   |0\\rangle_{c}  |1\\rangle_{t}\\rightarrow\n",
    "   |0\\rangle_{c}  |1\\rangle_{t},\n",
    "\\label{_auto28} \\tag{31}\n",
    "\\end{equation}\n",
    "$$"
   ]
  },
  {
   "cell_type": "markdown",
   "metadata": {},
   "source": [
    "<!-- Equation labels as ordinary links -->\n",
    "<div id=\"_auto29\"></div>\n",
    "\n",
    "$$\n",
    "\\begin{equation}\n",
    "   |1\\rangle_{c}  |0\\rangle_{t}\\rightarrow\n",
    "   |1\\rangle_{c}  |1\\rangle_{t},\n",
    "\\label{_auto29} \\tag{32}\n",
    "\\end{equation}\n",
    "$$"
   ]
  },
  {
   "cell_type": "markdown",
   "metadata": {},
   "source": [
    "og"
   ]
  },
  {
   "cell_type": "markdown",
   "metadata": {},
   "source": [
    "<!-- Equation labels as ordinary links -->\n",
    "<div id=\"_auto30\"></div>\n",
    "\n",
    "$$\n",
    "\\begin{equation}\n",
    "   |1\\rangle_{c}  |1\\rangle_{t}\\rightarrow\n",
    "   |1\\rangle_{c}  |0\\rangle_{t}.\n",
    "\\label{_auto30} \\tag{33}\n",
    "\\end{equation}\n",
    "$$"
   ]
  },
  {
   "cell_type": "markdown",
   "metadata": {},
   "source": [
    "Matematisk kan vi uttrykke en CNOT krets som en\n",
    "$4\\times 4$ matrise"
   ]
  },
  {
   "cell_type": "markdown",
   "metadata": {},
   "source": [
    "<!-- Equation labels as ordinary links -->\n",
    "<div id=\"_auto31\"></div>\n",
    "\n",
    "$$\n",
    "\\begin{equation}\n",
    "   \\hat{H}_{\\mathrm{CNOT}}=\n",
    "    \\left(\\begin{array}{cccc} 1 & 0 & 0 &0  \\\\ \n",
    "                              0 & 1 & 0 &0  \\\\\n",
    "                              0& 0 & 0 &1  \\\\\n",
    "                              0 & 0 & 1 &0\\end{array}\\right),\n",
    "\\label{_auto31} \\tag{34}\n",
    "\\end{equation}\n",
    "$$"
   ]
  },
  {
   "cell_type": "markdown",
   "metadata": {},
   "source": [
    "som virker på basistilstandene\n",
    "$|0\\rangle_c|0\\rangle_t$, $|0\\rangle_c|1\\rangle_t$, $|1\\rangle_c|0\\rangle_t$ \n",
    "og $|1\\rangle_c|1\\rangle_t$. Som vektorer kan vi skrive disse tilstandene\n",
    "på følgende vis"
   ]
  },
  {
   "cell_type": "markdown",
   "metadata": {},
   "source": [
    "<!-- Equation labels as ordinary links -->\n",
    "<div id=\"_auto32\"></div>\n",
    "\n",
    "$$\n",
    "\\begin{equation}\n",
    "   |0\\rangle_c|0\\rangle_t=\\left(\\begin{array}{c} 1  \\\\ \n",
    "                                                 0  \\\\\n",
    "                                                 0  \\\\\n",
    "                                                 0  \\end{array}\\right),\n",
    "\\label{_auto32} \\tag{35}\n",
    "\\end{equation}\n",
    "$$"
   ]
  },
  {
   "cell_type": "markdown",
   "metadata": {},
   "source": [
    "<!-- Equation labels as ordinary links -->\n",
    "<div id=\"_auto33\"></div>\n",
    "\n",
    "$$\n",
    "\\begin{equation}\n",
    "   |0\\rangle_c|1\\rangle_t=\\left(\\begin{array}{c} 0  \\\\ \n",
    "                                                 1  \\\\\n",
    "                                                 0  \\\\\n",
    "                                                 0  \\end{array}\\right),\n",
    "\\label{_auto33} \\tag{36}\n",
    "\\end{equation}\n",
    "$$"
   ]
  },
  {
   "cell_type": "markdown",
   "metadata": {},
   "source": [
    "<!-- Equation labels as ordinary links -->\n",
    "<div id=\"_auto34\"></div>\n",
    "\n",
    "$$\n",
    "\\begin{equation}\n",
    "   |1\\rangle_c|0\\rangle_t=\\left(\\begin{array}{c} 0  \\\\ \n",
    "                                                 0  \\\\\n",
    "                                                 1  \\\\\n",
    "                                                 0  \\end{array}\\right),\n",
    "\\label{_auto34} \\tag{37}\n",
    "\\end{equation}\n",
    "$$"
   ]
  },
  {
   "cell_type": "markdown",
   "metadata": {},
   "source": [
    "og"
   ]
  },
  {
   "cell_type": "markdown",
   "metadata": {},
   "source": [
    "<!-- Equation labels as ordinary links -->\n",
    "<div id=\"_auto35\"></div>\n",
    "\n",
    "$$\n",
    "\\begin{equation}\n",
    "   |1\\rangle_c|1\\rangle_t=\\left(\\begin{array}{c} 0  \\\\ \n",
    "                                                 0  \\\\\n",
    "                                                 0  \\\\\n",
    "                                                 1  \\end{array}\\right).\n",
    "\\label{_auto35} \\tag{38}\n",
    "\\end{equation}\n",
    "$$"
   ]
  },
  {
   "cell_type": "markdown",
   "metadata": {},
   "source": [
    "Som et eksempel kan vi rekne"
   ]
  },
  {
   "cell_type": "markdown",
   "metadata": {},
   "source": [
    "<!-- Equation labels as ordinary links -->\n",
    "<div id=\"_auto36\"></div>\n",
    "\n",
    "$$\n",
    "\\begin{equation}\n",
    "   \\hat{H}_{\\mathrm{CNOT}}|1\\rangle_c|1\\rangle_t=\n",
    "    \\left(\\begin{array}{cccc} 1 & 0 & 0 &0  \\\\ \n",
    "                              0 & 1 & 0 &0  \\\\\n",
    "                              0& 0 & 0 &1  \\\\\n",
    "                              0 & 0 & 1 &0\\end{array}\\right)\n",
    "                              \\left(\\begin{array}{c} 0  \\\\ \n",
    "                                                 0  \\\\\n",
    "                                                 0  \\\\\n",
    "                                                 1  \\end{array}\\right)=\n",
    "\\left(\\begin{array}{c} 0  \\\\ \n",
    "                                                 0  \\\\\n",
    "                                                 1  \\\\\n",
    "                                                 0  \\end{array}\\right),\n",
    "\\label{_auto36} \\tag{39}\n",
    "\\end{equation}\n",
    "$$"
   ]
  },
  {
   "cell_type": "markdown",
   "metadata": {},
   "source": [
    "som er \n",
    "$|1\\rangle_c|0\\rangle_t$, dvs. target-biten forandrer verdi fra bit '1'\n",
    "til bit '0' når kontroll-biten har verdi bit '1'.\n",
    "\n",
    "\n",
    "\n",
    "\n",
    "\n",
    "\n",
    "\n",
    "# Introduction\n",
    "\n",
    "A theoretical understanding of the behavior of many-body systems is a\n",
    "great challenge and provides fundamental insights into quantum\n",
    "mechanical studies, as well as offering potential areas of\n",
    "applications.  However, apart from some few analytically solvable\n",
    "problems, the typical absence of an exactly solvable contribution to\n",
    "the many-particle Hamiltonian means that we need reliable numerical\n",
    "many-body methods.  These methods should allow for controlled\n",
    "approximations and provide a computational scheme which accounts for\n",
    "successive many-body corrections in a systematic way.  Typical\n",
    "examples of popular many-body methods are coupled cluster methods,\n",
    "various types of Monte Carlo methods, perturbative expansions, Green's\n",
    "function methods, the density-matrix renormalization group, ab initio\n",
    "density functional theory and large-scale diagonalization methods.\n",
    "\n",
    "\n",
    "All these methods have to face in some form or the other the problem\n",
    "of an exponential growth in dimensionality. For a system of $P$\n",
    "fermions which can be placed into $N$ levels, the total number of\n",
    "basis states are given by\n",
    "$\\left(\\begin{array}{c}N\\\\P\\end{array}\\right)$.  The dimensional curse\n",
    "means that most quantum mechanical calculations on classical computers\n",
    "have exponential complexity and therefore are very hard to solve for\n",
    "larger systems. On the other hand, a so-called quantum computer, a\n",
    "particularly dedicated computer, can improve greatly on the size of\n",
    "systems that can be simulated, as foreseen by Feynman. A quantum computer does not need an\n",
    "exponential amount of memory to represent a quantum state.  The basic\n",
    "unit of information for a quantum computer is the so-called qubit or\n",
    "quantum bit. Any suitable two-level quantum system can be a qubit, but\n",
    "the standard model of quantum computation is a model where two-level\n",
    "quantum systems are located at different points in space, and are\n",
    "manipulated by a small universal set of operations.  These operations\n",
    "are called gates in the same fashion as operations on bits in\n",
    "classical computers are called gates.\n",
    "\n",
    "For the example of $P$ spin $1/2$ particles, a classical computer\n",
    "needs $2^P$ bits to represent all possible states, while a quantum\n",
    "computer needs only $P$ qubits. The complexity in number of qubits is\n",
    "thus linear.  Based on these ideas, several groups have proposed\n",
    "various algorithms for simulating quantal many-body systems on quantum\n",
    "computers.  Abrams and Lloyd introduced a quantum algorithm that uses\n",
    "the quantum fast Fourier transform to find eigenvalues and\n",
    "eigenvectors of a given Hamiltonian, illustrating how one could solve\n",
    "classically intractable problems with less than 100 qubits.  Achieving\n",
    "a polynomial complexity in the number of operations needed to simulate\n",
    "a quantum system is not that straightforward however.  To get\n",
    "efficient simulations in time one needs to transform the many-body\n",
    "Hamiltonian into a sum of operations on qubits, the building blocks of\n",
    "the quantum simulator and computer, so that the time evolution\n",
    "operator can be implemented in polynomial time.\n",
    "\n",
    "The aim of this work is to develop an algorithm than allows one to\n",
    "perform a quantum computer simulation (or simply quantum simulation\n",
    "hereafter) of any many-body fermionic Hamiltonian. We show how to\n",
    "generate, via various Jordan-Wigner transformations, all qubit\n",
    "operations needed to simulate the time evolution operator of a given\n",
    "Hamiltonian.  We also show that for a given term in an $m$-body\n",
    "fermionic Hamiltonian, the number of operations needed to simulate it\n",
    "is linear in the number of qubits or energy-levels of the system. The\n",
    "number of terms in the Hamiltonian is of the order of $m^2$ for a\n",
    "general $m$-body interaction, making the simulation increasingly\n",
    "harder with higher order interactions. We specialize our examples to a\n",
    "two-body Hamiltonian, since this is also the most general type of\n",
    "Hamiltonian encountered in many-body physics.  Besides fields like\n",
    "nuclear physics, where three-body forces play a non-neglible role, a\n",
    "two-body Hamiltonian captures most of the relevant physics. \n",
    "\n",
    "## Hamiltonians\n",
    "\n",
    "A general two-body Hamiltonian for fermionic system \n",
    "can be written as"
   ]
  },
  {
   "cell_type": "markdown",
   "metadata": {},
   "source": [
    "<!-- Equation labels as ordinary links -->\n",
    "<div id=\"eq:twobodyH\"></div>\n",
    "\n",
    "$$\n",
    "\\begin{equation}\n",
    "\\label{eq:twobodyH} \\tag{40}\n",
    "H = E_0 + \\sum_{ij=1} E_{ij} a^\\dag_i a_j\n",
    "+\\sum_{ijkl = 1} V_{ijkl} a^\\dag_i a^\\dag_j a_l a_k,\n",
    "\\end{equation}\n",
    "$$"
   ]
  },
  {
   "cell_type": "markdown",
   "metadata": {},
   "source": [
    "where $E_0$ is a constant energy term, $E_{ij}$ represent all the\n",
    "one-particle terms, allowing for non-diagonal terms as well. The\n",
    "one-body term can represent \n",
    "a chosen single-particle potential, the kinetic energy or other more\n",
    "specialized terms such as  \n",
    "those discussed in connection with the Hubbard model or the pairing Hamiltonian  \n",
    "discussed below.\n",
    "The two-body interaction part is given by $V_{ijkl}$ and can be any\n",
    "two-body interaction, from \n",
    "Coulomb interaction to the interaction between nucleons.  \n",
    "The sums run over all possible single-particle levels $N$. \n",
    "Note that\n",
    "this model includes particle numbers from zero to the number of\n",
    "available quantum levels, $n$. To simulate states with fixed numbers\n",
    "of fermions one would have to either rewrite the Hamiltonian or\n",
    "generate specialized input states in the simulation.\n",
    "\n",
    "The algorithm which we will develop in this section and in\n",
    "However, \n",
    "in our demonstrations of the quantum computing algorithm, we will limit ourselves to\n",
    "two simple models, which however capture much of the important physics\n",
    "in quantum mechanical \n",
    "many-body systems. We will also limit ourselves to spin $j=1/2$\n",
    "systems, although our algorithm \n",
    "can also simulate  higher $j$-values, such as those which occur in nuclear, atomic and\n",
    "molecular physics, it simply uses one qubit for every available\n",
    "quantum state.   \n",
    "These simple models are the Hubbard model and a pairing\n",
    "Hamiltonian.\n",
    "We start with the spin $1/2$ Hubbard model, described by the following Hamiltonian"
   ]
  },
  {
   "cell_type": "markdown",
   "metadata": {},
   "source": [
    "<!-- Equation labels as ordinary links -->\n",
    "<div id=\"_auto37\"></div>\n",
    "\n",
    "$$\n",
    "\\begin{equation}\n",
    "H_H = \\epsilon \\sum_{i, \\sigma} a_{i\\sigma}^\\dag a_{i\\sigma} \n",
    "-t \\sum_{i, \\sigma} \\left(a^\\dag_{i+1, \\sigma}a_{i, \\sigma}\n",
    "+a^\\dag_{i, \\sigma}a_{i+1, \\sigma} \\right) \\notag \n",
    "\\label{_auto37} \\tag{41}\n",
    "\\end{equation}\n",
    "$$"
   ]
  },
  {
   "cell_type": "markdown",
   "metadata": {},
   "source": [
    "<!-- Equation labels as ordinary links -->\n",
    "<div id=\"eq:hubbard\"></div>\n",
    "\n",
    "$$\n",
    "\\begin{equation} \n",
    " + U \\sum_{i=1} a_{i+}^\\dag a_{i-}^\\dag a_{i-}a_{i+},\n",
    "\\label{eq:hubbard} \\tag{42}\n",
    "\\end{equation}\n",
    "$$"
   ]
  },
  {
   "cell_type": "markdown",
   "metadata": {},
   "source": [
    "where $a^{\\dagger}$ and $a$ are fermion creation and annihilation operators, respectively.\n",
    "This is a chain of sites where each site has room for one spin up\n",
    "fermion and one spin down fermion. \n",
    "The number of sites is $N$, and the sums over $\\sigma$ are sums over\n",
    "spin up and down only.\n",
    "Each site has a single-particle\n",
    "energy $\\epsilon$. There is a repulsive term $U$ if there is a pair\n",
    "of particles at the same site. It is energetically favourable to tunnel to\n",
    "neighbouring sites, described by \n",
    "the hopping terms with coupling constant $-t$.\n",
    "\n",
    "The second model-Hamiltonian is the simple pairing Hamiltonian"
   ]
  },
  {
   "cell_type": "markdown",
   "metadata": {},
   "source": [
    "<!-- Equation labels as ordinary links -->\n",
    "<div id=\"eq:pairing\"></div>\n",
    "\n",
    "$$\n",
    "\\begin{equation}\n",
    "   H_P=\\sum_i \\varepsilon_i a^{\\dagger}_i a_i -\\frac{1}{2} g\\sum_{ij>0}\n",
    "           a^{\\dagger}_{i}\n",
    "     a^{\\dagger}_{\\bar{\\imath}}a_{\\bar{\\jmath}}a_{j},\n",
    "\\label{eq:pairing} \\tag{43}\n",
    "\\end{equation}\n",
    "$$"
   ]
  },
  {
   "cell_type": "markdown",
   "metadata": {},
   "source": [
    "The indices $i$ and $j$ run over the number of levels $N$, and the label $\\bar{\\imath}$ \n",
    "stands for a time-reversed state. The parameter $g$ is the strength of the pairing force \n",
    "while $\\varepsilon_i$ is the single-particle energy of level $i$. \n",
    "In our case\n",
    "we assume that the single-particle levels are equidistant (or\n",
    "degenerate) with a fixed spacing $d$. \n",
    "Moreover, in our simple model, the degeneracy of the single-particle\n",
    "levels is set to $2j+1=2$, with $j=1/2$  \n",
    "being the spin of the particle. This gives a set of single-particle\n",
    "states with the same spin projections as \n",
    "for the Hubbard model.  Whereas in the Hubbard model we operate with\n",
    "different sites with  \n",
    "spin up or spin down particles, our pairing models deals thus with\n",
    "levels  with double degeneracy. \n",
    "Introducing the pair-creation operator \n",
    "$S^+_i=a^{\\dagger}_{im}a^{\\dagger}_{i-m}$,\n",
    "one can rewrite the Hamiltonian in \n",
    "Eq. ([eq:pairing](#eq:pairing)) as"
   ]
  },
  {
   "cell_type": "markdown",
   "metadata": {},
   "source": [
    "$$\n",
    "H_P=d\\sum_iiN_i+\n",
    "     \\frac{1}{2} G\\sum_{ij>0}S^+_iS^-_j,\n",
    "$$"
   ]
  },
  {
   "cell_type": "markdown",
   "metadata": {},
   "source": [
    "where  $N_i=a^{\\dagger}_i a_i$\n",
    "is the number operator, and \n",
    "$\\varepsilon_i = id$ so that the single-particle orbitals \n",
    "are equally spaced at intervals $d$. The latter commutes with the \n",
    "Hamiltonian $H$. In this model, quantum numbers like seniority \n",
    "$\\cal{S}$ are good quantum numbers, and the eigenvalue problem \n",
    "can be rewritten in terms of blocks with good seniority. \n",
    "Loosely \n",
    "speaking, the seniority quantum number $\\cal{S}$ is equal to \n",
    "the number of unpaired particles.\n",
    "Furthermore, in  a series of papers, Richardson\n",
    "obtained the exact solution of the pairing Hamiltonian, with \n",
    "semi-analytic (since there is still the need for a numerical solution) \n",
    "expressions for the eigenvalues and eigenvectors. The exact solutions\n",
    "have had important consequences for several fields, from Bose condensates to\n",
    "nuclear superconductivity and is currently a very active field of studies, see for example\n",
    "Finally, for particle numbers up to $P \\sim 20$, the above model can be \n",
    "solved exactly through numerical diagonalization and one can obtain all eigenvalues.\n",
    "It serves therefore also as an excellent ground for comparison with our algorithm based\n",
    "on models from quantum computing.\n",
    "\n",
    "\n",
    "## Basic quantum  gates\n",
    "\n",
    "Benioff showed that one could make a quantum mechanical Turing machine\n",
    "by using various  unitary operations on a quantum system.\n",
    "Benioff  demonstrated \n",
    "that a quantum computer can calculate anything a\n",
    "classical computer can. To do this one needs a quantum system and\n",
    "basic operations that can approximate all unitary operations\n",
    "on the chosen many-body system. We describe in this subsection the basic ingredients entering \n",
    "our algorithms.\n",
    "\n",
    "### Qubits, gates and circuits\n",
    "\n",
    "In this article we will use the standard model of quantum information,\n",
    "where\n",
    "the basic unit of information is the qubit, the quantum bit. \n",
    "As mentioned in the introduction, any\n",
    "suitable \n",
    "two-level quantum system can be a qubit, \n",
    "it is the smallest system there is with the\n",
    "least complex dynamics.\n",
    "Qubits are both abstract measures of information and physical objects.\n",
    "Actual physical qubits can be ions trapped in magnetic fields where\n",
    "lasers can access only two energy levels or  the nuclear spins of some of\n",
    "the atoms in molecules accessed and manipulated by an NMR machine.\n",
    "Several other ideas have been proposed and some tested.\n",
    "\n",
    "The computational basis for one qubit is ${\\ensuremath{|0\\rangle}}$ (representing for example bit $0$) \n",
    "for the first state\n",
    "and ${\\ensuremath{|1\\rangle}}$ (representing bit $1$) for the second, and for a set of qubits  \n",
    "the tensor products of\n",
    "these basis states for each qubit form a product basis. Below we write out the different\n",
    "basis states for a system of $n$ qubits."
   ]
  },
  {
   "cell_type": "markdown",
   "metadata": {},
   "source": [
    "<!-- Equation labels as ordinary links -->\n",
    "<div id=\"eq:compBasis\"></div>\n",
    "\n",
    "$$\n",
    "\\begin{equation}\n",
    "\\label{eq:compBasis} \\tag{44}\n",
    "{\\ensuremath{|0\\rangle}} \\equiv {\\ensuremath{|00\\cdots 0\\rangle}} =\n",
    "      {\\ensuremath{|0\\rangle}} \\otimes {\\ensuremath{| 0\\rangle}} \\otimes\n",
    "          \\cdots \n",
    "\\otimes {\\ensuremath{|0\\rangle}} \n",
    "\\notag \n",
    "\\end{equation}\n",
    "$$"
   ]
  },
  {
   "cell_type": "markdown",
   "metadata": {},
   "source": [
    "<!-- Equation labels as ordinary links -->\n",
    "<div id=\"_auto38\"></div>\n",
    "\n",
    "$$\n",
    "\\begin{equation} \n",
    "{\\ensuremath{|1\\rangle}} \\equiv {\\ensuremath{|00\\cdots 1\\rangle}} =\n",
    "    {\\ensuremath{|0\\rangle}} \\otimes {\\ensuremath{| 0\\rangle}} \\otimes\n",
    "        \\cdots \n",
    "\\otimes {\\ensuremath{|1\\rangle}} \n",
    "\\notag \n",
    "\\label{_auto38} \\tag{45}\n",
    "\\end{equation}\n",
    "$$"
   ]
  },
  {
   "cell_type": "markdown",
   "metadata": {},
   "source": [
    "<!-- Equation labels as ordinary links -->\n",
    "<div id=\"_auto39\"></div>\n",
    "\n",
    "$$\n",
    "\\begin{equation} \n",
    "\\vdots \\notag \n",
    "\\label{_auto39} \\tag{46}\n",
    "\\end{equation}\n",
    "$$"
   ]
  },
  {
   "cell_type": "markdown",
   "metadata": {},
   "source": [
    "<!-- Equation labels as ordinary links -->\n",
    "<div id=\"_auto40\"></div>\n",
    "\n",
    "$$\n",
    "\\begin{equation} \n",
    "{\\ensuremath{|2^n-1\\rangle}} \\equiv {\\ensuremath{|11\\cdots 1\\rangle}} =\n",
    "    {\\ensuremath{|1\\rangle}} \\otimes {\\ensuremath{| 1\\rangle}} \\otimes \n",
    "\\cdots \\otimes {\\ensuremath{|1 \\rangle}}.\n",
    "\\notag \n",
    "\\label{_auto40} \\tag{47}\n",
    "\\end{equation}\n",
    "$$"
   ]
  },
  {
   "cell_type": "markdown",
   "metadata": {},
   "source": [
    "<!-- Equation labels as ordinary links -->\n",
    "<div id=\"_auto41\"></div>\n",
    "\n",
    "$$\n",
    "\\begin{equation} \n",
    "\\label{_auto41} \\tag{48}\n",
    "\\end{equation}\n",
    "$$"
   ]
  },
  {
   "cell_type": "markdown",
   "metadata": {},
   "source": [
    "This is a $2^n$-dimensional system and we number the different basis\n",
    "states using binary numbers corresponding to the order in which they appear in the\n",
    "tensor product.\n",
    "\n",
    "Quantum computing means to  manipulate and measure  qubits in such a\n",
    "way that the results from a measurement yield the solutions to  a given problem. \n",
    "The quantum operations we need to be able to perform our simulations are \n",
    "a small set of elementary single-qubit\n",
    "operations, or single-qubit gates, and one universal two-qubit gate,\n",
    "in our case the so-called CNOT gate defined below.\n",
    "\n",
    "To represent quantum computer algorithms graphically we use circuit\n",
    "diagrams. In a circuit diagram each qubit is represented by a line,\n",
    "and operations on the different qubits are represented by boxes.\n",
    "\n",
    "## Number of work qubits versus number of simulation qubits\n",
    "\n",
    "The largest possible amount of different eigenvalues is $2^s$, where\n",
    "$s$ is the number of simulation qubits. The resolution in the energy\n",
    "spectrum we get from measuring upon the work qubits is $2^w$, with $w$ the number of\n",
    "work qubits.\n",
    "Therefore the resolution per eigenvalue in a non-degenerate system is\n",
    "$2^{w-s}$. The higher the degeneracy the less work qubits are needed. \n",
    "\n",
    "\n",
    "\n",
    "\n",
    "## Number of operations\n",
    "\n",
    "Counting the number of single-qubit and $\\sigma_z\\sigma_z$ operations\n",
    "for different sizes of systems simulated gives us an indication of the\n",
    "decoherence time needed for different physical realizations of a\n",
    "quantum simulator or computer. The decoherence time is an average time\n",
    "in which the state of the qubits will be destroyed by noise, also called \n",
    "decoherence, while the operation time is the average time an operation takes\n",
    "to perform on the given system. Their fraction is the number of\n",
    "operations possible to perform before decoherence destroys the\n",
    "computation. In table  we have listed the number of\n",
    "gates used for the pairing model, $H_P$, and the Hubbard model, $H_H$,\n",
    "for different number of simulation qubits. \n",
    "\n",
    "<table border=\"1\">\n",
    "<thead>\n",
    "<tr><th align=\"center\">     </th> <th align=\"center\">$s=2$</th> <th align=\"center\">$s=4$</th> <th align=\"center\">$s=6$</th> <th align=\"center\">$s=8$</th> <th align=\"center\">$s=10$</th> <th align=\"center\">$s=12$</th> </tr>\n",
    "</thead>\n",
    "<tbody>\n",
    "<tr><td align=\"left\">   $H_P$    </td> <td align=\"center\">   9        </td> <td align=\"center\">   119      </td> <td align=\"center\">   333      </td> <td align=\"center\">   651      </td> <td align=\"center\">   1073      </td> <td align=\"center\">   1598      </td> </tr>\n",
    "<tr><td align=\"left\">   $H_H$    </td> <td align=\"center\">   9        </td> <td align=\"center\">   51       </td> <td align=\"center\">   93       </td> <td align=\"center\">   135      </td> <td align=\"center\">   177       </td> <td align=\"center\">   219       </td> </tr>\n",
    "</tbody>\n",
    "</table>\n",
    "Number of two-qubit gates used in simulating the time\n",
    "  evolution operator of the pairing model, $H_P$, and the Hubbard\n",
    "  model, $H_H$, for different number of simulation qubits $s$.\n",
    "\n",
    "\n",
    "\n",
    "We list here some useful relations involving different $\\sigma$ matrices,"
   ]
  },
  {
   "cell_type": "markdown",
   "metadata": {},
   "source": [
    "<!-- Equation labels as ordinary links -->\n",
    "<div id=\"_auto42\"></div>\n",
    "\n",
    "$$\n",
    "\\begin{equation}\n",
    "\\sigma_x \\sigma_z = -i\\sigma_y, \\quad\n",
    "\\sigma_z \\sigma_x = i\\sigma_y, \\quad [\\sigma_x, \\sigma_z]=-2i\\sigma_y,\n",
    "\\label{_auto42} \\tag{49}\n",
    "\\end{equation}\n",
    "$$"
   ]
  },
  {
   "cell_type": "markdown",
   "metadata": {},
   "source": [
    "<!-- Equation labels as ordinary links -->\n",
    "<div id=\"_auto43\"></div>\n",
    "\n",
    "$$\n",
    "\\begin{equation}\n",
    "\\sigma_x \\sigma_y = i\\sigma_z, \\quad\n",
    "\\sigma_y \\sigma_x = -i\\sigma_z, \\quad [\\sigma_x, \\sigma_y]=2i\\sigma_z,\n",
    "\\label{_auto43} \\tag{50}\n",
    "\\end{equation}\n",
    "$$"
   ]
  },
  {
   "cell_type": "markdown",
   "metadata": {},
   "source": [
    "and"
   ]
  },
  {
   "cell_type": "markdown",
   "metadata": {},
   "source": [
    "<!-- Equation labels as ordinary links -->\n",
    "<div id=\"_auto44\"></div>\n",
    "\n",
    "$$\n",
    "\\begin{equation}\n",
    "\\sigma_y \\sigma_z = i\\sigma_x, \\quad\n",
    "\\sigma_z \\sigma_y = -i\\sigma_x, \\quad [\\sigma_y, \\sigma_z]=2i\\sigma_x.\n",
    "\\label{_auto44} \\tag{51}\n",
    "\\end{equation}\n",
    "$$"
   ]
  },
  {
   "cell_type": "markdown",
   "metadata": {},
   "source": [
    "For any two non-equal $\\sigma$-matrices $a$ and $b$ we have"
   ]
  },
  {
   "cell_type": "markdown",
   "metadata": {},
   "source": [
    "<!-- Equation labels as ordinary links -->\n",
    "<div id=\"_auto45\"></div>\n",
    "\n",
    "$$\n",
    "\\begin{equation}\n",
    "aba = -b.\n",
    "\\label{_auto45} \\tag{52}\n",
    "\\end{equation}\n",
    "$$"
   ]
  },
  {
   "cell_type": "markdown",
   "metadata": {},
   "source": [
    "The Hermitian $\\sigma$-matrices $\\sigma_x$, $\\sigma_y$ and $\\sigma_z$\n",
    "result in the identity matrix when squared"
   ]
  },
  {
   "cell_type": "markdown",
   "metadata": {},
   "source": [
    "<!-- Equation labels as ordinary links -->\n",
    "<div id=\"_auto46\"></div>\n",
    "\n",
    "$$\n",
    "\\begin{equation}\n",
    "\\sigma_x^2 = _1_,\\quad \n",
    "\\sigma_y^2 = _1_,\\quad \n",
    "\\sigma_z^2 = _1_,\\quad \n",
    "\\label{_auto46} \\tag{53}\n",
    "\\end{equation}\n",
    "$$"
   ]
  },
  {
   "cell_type": "markdown",
   "metadata": {},
   "source": [
    "which can be used to obtain  simplified expressions for exponential functions involving $\\sigma$-matrices"
   ]
  },
  {
   "cell_type": "markdown",
   "metadata": {},
   "source": [
    "<!-- Equation labels as ordinary links -->\n",
    "<div id=\"_auto47\"></div>\n",
    "\n",
    "$$\n",
    "\\begin{equation}\n",
    "e^{\\pm i\\alpha \\sigma}=\\cos(\\alpha) _1_ \\pm i \\sin(\\alpha) \\sigma. \n",
    "\\label{_auto47} \\tag{54}\n",
    "\\end{equation}\n",
    "$$"
   ]
  },
  {
   "cell_type": "markdown",
   "metadata": {},
   "source": [
    "The equations we list below are necessary for the relation between  a general unitary\n",
    "transformation on a set of qubits with  a product of two-qubit unitary\n",
    "transformations. We have the general equation for $a,b \\in \\{\\sigma_x,\\sigma_y, \\sigma_z\\}$, where $a\\neq b$."
   ]
  },
  {
   "cell_type": "markdown",
   "metadata": {},
   "source": [
    "<!-- Equation labels as ordinary links -->\n",
    "<div id=\"_auto48\"></div>\n",
    "\n",
    "$$\n",
    "\\begin{equation}\n",
    "  e^{-i\\pi/4a} b e^{i\\pi/4a} = \\frac{1}{2} (_1_ -ia) b ( _1_ + ia)\n",
    "  \\notag\n",
    "\\label{_auto48} \\tag{55}\n",
    "\\end{equation}\n",
    "$$"
   ]
  },
  {
   "cell_type": "markdown",
   "metadata": {},
   "source": [
    "<!-- Equation labels as ordinary links -->\n",
    "<div id=\"_auto49\"></div>\n",
    "\n",
    "$$\n",
    "\\begin{equation}  \n",
    "  =  \\frac{1}{2} (b + aba + i[b,a]) \\notag\n",
    "\\label{_auto49} \\tag{56}\n",
    "\\end{equation}\n",
    "$$"
   ]
  },
  {
   "cell_type": "markdown",
   "metadata": {},
   "source": [
    "<!-- Equation labels as ordinary links -->\n",
    "<div id=\"_auto50\"></div>\n",
    "\n",
    "$$\n",
    "\\begin{equation} \n",
    "  = \\frac{i}{2}[b,a].\n",
    "\\label{_auto50} \\tag{57}\n",
    "\\end{equation}\n",
    "$$"
   ]
  },
  {
   "cell_type": "markdown",
   "metadata": {},
   "source": [
    "The more specialized equations read"
   ]
  },
  {
   "cell_type": "markdown",
   "metadata": {},
   "source": [
    "<!-- Equation labels as ordinary links -->\n",
    "<div id=\"eq:rotations1\"></div>\n",
    "\n",
    "$$\n",
    "\\begin{equation}\n",
    "\\label{eq:rotations1} \\tag{58}\n",
    "  e^{-i\\pi/4 \\sigma_x} \\sigma_z e^{i\\pi/4 \\sigma_x} = -\\sigma_y, \n",
    "\\end{equation}\n",
    "$$"
   ]
  },
  {
   "cell_type": "markdown",
   "metadata": {},
   "source": [
    "<!-- Equation labels as ordinary links -->\n",
    "<div id=\"eq:rotations2\"></div>\n",
    "\n",
    "$$\n",
    "\\begin{equation} \n",
    "\\label{eq:rotations2} \\tag{59}\n",
    "  e^{-i\\pi/4 \\sigma_y} \\sigma_z e^{i\\pi/4 \\sigma_y} = \\sigma_x, \n",
    "\\end{equation}\n",
    "$$"
   ]
  },
  {
   "cell_type": "markdown",
   "metadata": {},
   "source": [
    "<!-- Equation labels as ordinary links -->\n",
    "<div id=\"eq:rotations3\"></div>\n",
    "\n",
    "$$\n",
    "\\begin{equation} \n",
    "\\label{eq:rotations3} \\tag{60}\n",
    "  e^{-i\\pi/4 \\sigma_z} \\sigma_x e^{i\\pi/4 \\sigma_z} = \\sigma_y, \n",
    "\\end{equation}\n",
    "$$"
   ]
  },
  {
   "cell_type": "markdown",
   "metadata": {},
   "source": [
    "<!-- Equation labels as ordinary links -->\n",
    "<div id=\"eq:rotations4\"></div>\n",
    "\n",
    "$$\n",
    "\\begin{equation} \n",
    "\\label{eq:rotations4} \\tag{61}\n",
    "  e^{-i\\pi/4 \\sigma_z} \\sigma_y e^{i\\pi/4 \\sigma_z} = -\\sigma_x. \n",
    "\\end{equation}\n",
    "$$"
   ]
  },
  {
   "cell_type": "markdown",
   "metadata": {},
   "source": [
    "We need also different products of the operator$\\sigma_z$  with the  raising and lowering operators"
   ]
  },
  {
   "cell_type": "markdown",
   "metadata": {},
   "source": [
    "<!-- Equation labels as ordinary links -->\n",
    "<div id=\"eq:pmzs\"></div>\n",
    "\n",
    "$$\n",
    "\\begin{equation}\n",
    "\\label{eq:pmzs} \\tag{62}\n",
    "  \\sigma_+ \\sigma_z = -\\sigma_+ \n",
    "\\end{equation}\n",
    "$$"
   ]
  },
  {
   "cell_type": "markdown",
   "metadata": {},
   "source": [
    "<!-- Equation labels as ordinary links -->\n",
    "<div id=\"_auto51\"></div>\n",
    "\n",
    "$$\n",
    "\\begin{equation} \n",
    "  \\sigma_z \\sigma_+ = \\sigma_+, \n",
    "\\label{_auto51} \\tag{63}\n",
    "\\end{equation}\n",
    "$$"
   ]
  },
  {
   "cell_type": "markdown",
   "metadata": {},
   "source": [
    "<!-- Equation labels as ordinary links -->\n",
    "<div id=\"_auto52\"></div>\n",
    "\n",
    "$$\n",
    "\\begin{equation} \n",
    "  \\sigma_- \\sigma_z = \\sigma_-, \n",
    "\\label{_auto52} \\tag{64}\n",
    "\\end{equation}\n",
    "$$"
   ]
  },
  {
   "cell_type": "markdown",
   "metadata": {},
   "source": [
    "<!-- Equation labels as ordinary links -->\n",
    "<div id=\"_auto53\"></div>\n",
    "\n",
    "$$\n",
    "\\begin{equation} \n",
    "  \\sigma_z \\sigma_- = -\\sigma_-. \n",
    "\\label{_auto53} \\tag{65}\n",
    "\\end{equation}\n",
    "$$"
   ]
  },
  {
   "cell_type": "markdown",
   "metadata": {},
   "source": [
    "<!-- Equation labels as ordinary links -->\n",
    "<div id=\"_auto54\"></div>\n",
    "\n",
    "$$\n",
    "\\begin{equation} \n",
    "\\label{_auto54} \\tag{66}\n",
    "\\end{equation}\n",
    "$$"
   ]
  }
 ],
 "metadata": {},
 "nbformat": 4,
 "nbformat_minor": 2
}
